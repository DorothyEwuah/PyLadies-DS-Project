{
  "nbformat": 4,
  "nbformat_minor": 0,
  "metadata": {
    "colab": {
      "name": "Introduction to Python.ipynb",
      "provenance": [],
      "collapsed_sections": [],
      "include_colab_link": true
    },
    "kernelspec": {
      "name": "python3",
      "display_name": "Python 3"
    },
    "language_info": {
      "name": "python"
    }
  },
  "cells": [
    {
      "cell_type": "markdown",
      "metadata": {
        "id": "view-in-github",
        "colab_type": "text"
      },
      "source": [
        "<a href=\"https://colab.research.google.com/github/DorothyEwuah/PyLadies-DS-Project/blob/master/Introduction_to_Python.ipynb\" target=\"_parent\"><img src=\"https://colab.research.google.com/assets/colab-badge.svg\" alt=\"Open In Colab\"/></a>"
      ]
    },
    {
      "cell_type": "markdown",
      "source": [
        "##**Introduction to Python Programming by Dorothy Ewuah**\n",
        "Adapted from SoloLearn's [Python for Beginners Course](https://www.sololearn.com/learning/1157)"
      ],
      "metadata": {
        "id": "TKtJaSwYbFLv"
      }
    },
    {
      "cell_type": "markdown",
      "source": [
        "In this tutorial, we will cover the following:\n",
        "\n",
        "\n",
        "\n",
        "1.   Strings\n",
        "2.   Math Operations\n",
        "3.   Variables\n",
        "4.   Control Flow\n",
        "5.   Lists\n",
        "6.   Functions\n",
        "7.   Dictionaries\n"
      ],
      "metadata": {
        "id": "S0VS9kHlG2OF"
      }
    },
    {
      "cell_type": "code",
      "execution_count": null,
      "metadata": {
        "id": "oHcfeRR2rC8i",
        "colab": {
          "base_uri": "https://localhost:8080/"
        },
        "outputId": "c3005e92-0594-4420-f880-924e6cb1c20e"
      },
      "outputs": [
        {
          "output_type": "stream",
          "name": "stdout",
          "text": [
            "Hello world!\n"
          ]
        }
      ],
      "source": [
        "# Your very first line of code\n",
        "print('Hello world!')"
      ]
    },
    {
      "cell_type": "code",
      "source": [
        "# Basic Arithmetic operations\n",
        "print(5 + 4 -3)\n",
        "print(2 * (3 + 4)) \n",
        "\n",
        "# what will the output of this be and why\n",
        "print((4 + 8) / 2)\n"
      ],
      "metadata": {
        "id": "92idQGzGvoow",
        "colab": {
          "base_uri": "https://localhost:8080/"
        },
        "outputId": "15e22e47-8bba-4847-ad1d-6452cb8f76f8"
      },
      "execution_count": null,
      "outputs": [
        {
          "output_type": "stream",
          "name": "stdout",
          "text": [
            "6\n",
            "14\n",
            "6.0\n"
          ]
        }
      ]
    },
    {
      "cell_type": "markdown",
      "source": [
        "####**Practice 1: Ever wondered how many seconds are there in a month (30 days)? Write a program to calculate and output the answer.**\n",
        "\n",
        " \n",
        "\n",
        "> *Remember, there are 24 hours in a day, 60 minutes in an hour, and 60 seconds in a minute. Use the print() statement to output the result.*\n",
        "\n",
        "\n"
      ],
      "metadata": {
        "id": "Qo_URHuywU05"
      }
    },
    {
      "cell_type": "code",
      "source": [
        "print (30 *24 * 60 * 60)"
      ],
      "metadata": {
        "id": "R6ArYU14ysZO",
        "colab": {
          "base_uri": "https://localhost:8080/"
        },
        "outputId": "eb7d8777-a005-462a-9dd3-a144cd609ffc"
      },
      "execution_count": null,
      "outputs": [
        {
          "output_type": "stream",
          "name": "stdout",
          "text": [
            "2592000\n"
          ]
        }
      ]
    },
    {
      "cell_type": "markdown",
      "source": [
        "##**Data Types**\n",
        "\n",
        "\n",
        "\n",
        "```\n",
        "#A quick revisit.\n",
        "List the data types you remember\n",
        "```\n",
        "\n"
      ],
      "metadata": {
        "id": "WWcDKY5C5unB"
      }
    },
    {
      "cell_type": "code",
      "source": [
        "# Exponentiation\n",
        "\n",
        "print(2**2) #2 raised to the power 2\n",
        "print(2**3**2.) \n",
        "print(9 **(1/2))"
      ],
      "metadata": {
        "id": "CfI57Wgn6gvx",
        "colab": {
          "base_uri": "https://localhost:8080/"
        },
        "outputId": "b26de3d7-e732-4ede-d32f-c32d4569014f"
      },
      "execution_count": null,
      "outputs": [
        {
          "output_type": "stream",
          "name": "stdout",
          "text": [
            "4\n",
            "512.0\n",
            "3.0\n"
          ]
        }
      ]
    },
    {
      "cell_type": "markdown",
      "source": [
        "###**Practice 2:**\n",
        "Did you know that there are more bacteria cells in your body than cells that make up your body? Weird!\n",
        "\n",
        "A bacteria culture starts with 500 bacteria and doubles in size every hour.\n",
        "Which means, after 1 hour the number of bacteria is 1000, after 2 hours 2000, and so on.\n",
        "\n",
        "Let’s calculate and output the number of bacteria that will be in the culture after 24 hours.\n",
        ">*The formula to calculate the bacteria after N hours will be: 500**2ᴺ"
      ],
      "metadata": {
        "id": "i7m52e4V7M0S"
      }
    },
    {
      "cell_type": "code",
      "source": [
        "print(500 * (2**24))"
      ],
      "metadata": {
        "id": "6NHzj6-M70c7",
        "colab": {
          "base_uri": "https://localhost:8080/"
        },
        "outputId": "34b7e94b-48b5-4e42-e136-cc4dc32d26a4"
      },
      "execution_count": null,
      "outputs": [
        {
          "output_type": "stream",
          "name": "stdout",
          "text": [
            "8388608000\n"
          ]
        }
      ]
    },
    {
      "cell_type": "markdown",
      "source": [
        "###**Floor Division & Remainder**"
      ],
      "metadata": {
        "id": "9Az8a9PK8VwV"
      }
    },
    {
      "cell_type": "code",
      "source": [
        "#print(20 // 6)\n",
        "\n",
        "print(20 % 6)\n",
        "print(1.25 % 0.5)\n",
        "print(20%2)\n",
        "\n",
        "#print(7 % (5 // 2))"
      ],
      "metadata": {
        "id": "GW-lE3y48dgc",
        "colab": {
          "base_uri": "https://localhost:8080/"
        },
        "outputId": "072a2b61-e969-4232-ae26-758036e99822"
      },
      "execution_count": null,
      "outputs": [
        {
          "output_type": "stream",
          "name": "stdout",
          "text": [
            "2\n",
            "0.25\n",
            "0\n"
          ]
        }
      ]
    },
    {
      "cell_type": "markdown",
      "source": [
        "###**Practice 3: Write a program to calculate the number of hours in 888 minutes**"
      ],
      "metadata": {
        "id": "XqkZDcr69wHb"
      }
    },
    {
      "cell_type": "code",
      "source": [
        "print(888 / 60)"
      ],
      "metadata": {
        "id": "Y3Qn4bZk-Ayx",
        "colab": {
          "base_uri": "https://localhost:8080/"
        },
        "outputId": "e7c373e1-ee1b-4008-c7f3-c23d1a246b53"
      },
      "execution_count": null,
      "outputs": [
        {
          "output_type": "stream",
          "name": "stdout",
          "text": [
            "14.8\n"
          ]
        }
      ]
    },
    {
      "cell_type": "markdown",
      "source": [
        "###**Practice 4:** Flight Time\n",
        "\n",
        "\n",
        "You need to calculate the flight time of an upcoming trip. You are flying from LA to Sydney, covering a distance of 7425 miles, the plane flies at an average speed of 550 miles an hour.\n",
        "\n",
        "Calculate and output the total flight time in hours.\n",
        "\n",
        "Hint: \n",
        "The result should be a float.\n",
        "Use the print statement to output the result."
      ],
      "metadata": {
        "id": "EPZ5ph5NAlCe"
      }
    },
    {
      "cell_type": "code",
      "source": [
        "print((7425 / 550))"
      ],
      "metadata": {
        "id": "FtNyfF8tBAG0",
        "colab": {
          "base_uri": "https://localhost:8080/"
        },
        "outputId": "79c37550-48cf-4b2b-9491-cf33bced2f19"
      },
      "execution_count": null,
      "outputs": [
        {
          "output_type": "stream",
          "name": "stdout",
          "text": [
            "13.5\n"
          ]
        }
      ]
    },
    {
      "cell_type": "markdown",
      "source": [
        "###**Strings**"
      ],
      "metadata": {
        "id": "QaCN3wxoBqgw"
      }
    },
    {
      "cell_type": "code",
      "source": [
        "print('I love Python')\n",
        "\n",
        "print('Brian\\'s mother: He\\'s not an angel. He\\'s a very naughty boy!')\n",
        "\n",
        "# new line\n",
        "print('One \\nTwo \\nThree')\n",
        "\n",
        "# add tab\n",
        "print('One \\tTwo \\tThree')\n",
        "\n",
        "# multilines\n",
        "print(\"\"\"\n",
        "this \n",
        "is a multiline\n",
        " text\n",
        "\"\"\")\n",
        "\n",
        "#concatenation\n",
        "print(\"Python\" + 'rocks')\n",
        "print(\"2\" + \"2\")\n",
        "\n",
        "#string operations\n",
        "print(\"Python\" * 3)\n",
        "print('2' * 4)"
      ],
      "metadata": {
        "id": "dfY_xvM6BWJV",
        "colab": {
          "base_uri": "https://localhost:8080/"
        },
        "outputId": "c8efac67-6212-4452-b369-39aa8f661f2d"
      },
      "execution_count": null,
      "outputs": [
        {
          "output_type": "stream",
          "name": "stdout",
          "text": [
            "I love Python\n",
            "Brian's mother: He's not an angel. He's a very naughty boy!\n",
            "One \n",
            "Two \n",
            "Three\n",
            "One \tTwo \tThree\n",
            "\n",
            "this \n",
            "is a multiline\n",
            " text\n",
            "\n",
            "Pythonrocks\n",
            "22\n",
            "PythonPythonPython\n",
            "2222\n"
          ]
        }
      ]
    },
    {
      "cell_type": "markdown",
      "source": [
        "###**Variables**\n",
        ">Don’t forget, Python is a case sensitive language. Which means, Lastname and lastname are two different variable names."
      ],
      "metadata": {
        "id": "LEJf4GzmINS3"
      }
    },
    {
      "cell_type": "code",
      "source": [
        "age = 100\n",
        "print(age)\n",
        "\n",
        "x = 123.456\n",
        "print(x)\n",
        "\n",
        "x = \"This is a string\"\n",
        "print(x + \"!\")"
      ],
      "metadata": {
        "id": "8kIAVUieIM-G",
        "colab": {
          "base_uri": "https://localhost:8080/"
        },
        "outputId": "599b452a-acbd-40d9-cbbc-7d2b8afbd61c"
      },
      "execution_count": null,
      "outputs": [
        {
          "output_type": "stream",
          "name": "stdout",
          "text": [
            "100\n",
            "123.456\n",
            "This is a string!\n"
          ]
        }
      ]
    },
    {
      "cell_type": "markdown",
      "source": [
        "###**Practice 5:**\n",
        "\n",
        "Complete the code for a contact management system, where name and age are the declared variable values"
      ],
      "metadata": {
        "id": "6AY_I9NLIxMX"
      }
    },
    {
      "cell_type": "code",
      "source": [
        "name = \"Alice\"\n",
        "age = 20"
      ],
      "metadata": {
        "id": "SlhVKmQHI8ao"
      },
      "execution_count": null,
      "outputs": []
    },
    {
      "cell_type": "code",
      "source": [
        "# Accepting Input\n",
        "\n",
        "# x = input()\n",
        "# print(x)\n",
        "\n",
        "name = input(\"Enter your name: \")\n",
        "print(\"Hello \" + name )\n",
        "\n",
        "\n",
        "# Input Conversion\n",
        "age = int(input(\"Enter your age:\"))\n",
        "print(age)\n",
        "print (\"Your age is \" + str(age))\n",
        "\n"
      ],
      "metadata": {
        "id": "8j0WV6TYJVCc"
      },
      "execution_count": null,
      "outputs": []
    },
    {
      "cell_type": "code",
      "source": [
        "# Performing math operations with user input\n",
        "print(\"This is a program to add two numbers\")\n",
        "x = int(input(\"Please type the first number to add\"))\n",
        "y = int(input(\"Please type the second number to add\"))\n",
        "z = x + y\n",
        "print(\"The sum of \" + str(x) + \" and \" + str(y) + \" is \" + str(z))"
      ],
      "metadata": {
        "id": "RdNi7Skb1iDo"
      },
      "execution_count": null,
      "outputs": []
    },
    {
      "cell_type": "code",
      "source": [
        ""
      ],
      "metadata": {
        "id": "TFv3A7MG1iQW"
      },
      "execution_count": null,
      "outputs": []
    },
    {
      "cell_type": "markdown",
      "source": [
        "###**Other Exercises:**\n",
        "Change the code in contact card program to take the name and age from user input and use then in the output"
      ],
      "metadata": {
        "id": "OwTQPa27NBf0"
      }
    },
    {
      "cell_type": "code",
      "source": [
        "# In-Place Operators\n",
        "# x = x + 3\n",
        "# print(x)\n",
        "\n",
        "# x+=3\n",
        "# print(x)\n",
        "x = 8\n",
        "x*=\"Python\"\n",
        "print(x)"
      ],
      "metadata": {
        "id": "tJiHjFpfTPHW"
      },
      "execution_count": null,
      "outputs": []
    },
    {
      "cell_type": "code",
      "source": [
        "# Booleans\n",
        "my_boolean = True\n",
        "print(my_boolean)\n",
        "x = 7\n",
        "\n",
        "print(x != 8)\n",
        "print(x > 5)\n",
        "print(x < 2)\n",
        "print(x >= 7)\n",
        "print(x <= 7)"
      ],
      "metadata": {
        "id": "UF-lqXTJBB1C",
        "colab": {
          "base_uri": "https://localhost:8080/"
        },
        "outputId": "a054ba66-d9ac-4767-ea39-235bca646a16"
      },
      "execution_count": null,
      "outputs": [
        {
          "output_type": "stream",
          "name": "stdout",
          "text": [
            "True\n",
            "True\n",
            "True\n",
            "False\n",
            "True\n",
            "True\n"
          ]
        }
      ]
    },
    {
      "cell_type": "code",
      "source": [
        "# if Statements\n",
        "\n",
        "x = 42\n",
        "if x > 5:\n",
        "   print(\"x is greater than 5\") "
      ],
      "metadata": {
        "id": "uk6WVp2SBlEK",
        "colab": {
          "base_uri": "https://localhost:8080/"
        },
        "outputId": "178e30e0-10af-4444-f709-d06814e4a90c"
      },
      "execution_count": null,
      "outputs": [
        {
          "output_type": "stream",
          "name": "stdout",
          "text": [
            "x is greater than 5\n"
          ]
        }
      ]
    },
    {
      "cell_type": "code",
      "source": [
        "num = 12\n",
        "if num > 5:\n",
        "   print(\"Bigger than 5\")\n",
        "   if num <= 47:\n",
        "      print(\"Between 5 and 47\")"
      ],
      "metadata": {
        "colab": {
          "base_uri": "https://localhost:8080/"
        },
        "id": "ytFHjc503Xe7",
        "outputId": "490ca132-a50c-49ef-afcd-e907259d801b"
      },
      "execution_count": null,
      "outputs": [
        {
          "output_type": "stream",
          "name": "stdout",
          "text": [
            "Bigger than 5\n",
            "Between 5 and 47\n"
          ]
        }
      ]
    },
    {
      "cell_type": "code",
      "source": [
        "# else statements\n",
        "\n",
        "x = 4\n",
        "if x == 5:\n",
        "   print(\"Yes\")\n",
        "else:\n",
        "   print(\"No\")"
      ],
      "metadata": {
        "id": "q_KXpgIoD8iM",
        "colab": {
          "base_uri": "https://localhost:8080/"
        },
        "outputId": "67a79850-3d01-4dec-f5de-31ddfa23cfe2"
      },
      "execution_count": null,
      "outputs": [
        {
          "output_type": "stream",
          "name": "stdout",
          "text": [
            "No\n"
          ]
        }
      ]
    },
    {
      "cell_type": "code",
      "source": [
        "num = 3\n",
        "if num == 1:\n",
        "  print(\"One\")\n",
        "else: \n",
        "  if num == 2:\n",
        "    print(\"Two\")\n",
        "  else: \n",
        "    if num == 3: \n",
        "      print(\"Three\")\n",
        "    else: \n",
        "      print(\"Something else\")"
      ],
      "metadata": {
        "id": "CeN7pGdE3iZS"
      },
      "execution_count": null,
      "outputs": []
    },
    {
      "cell_type": "code",
      "source": [
        "# elif\n",
        "\n",
        "num = 3\n",
        "if num == 1:\n",
        "  print(\"One\")\n",
        "elif num == 2:\n",
        "  print(\"Two\")\n",
        "elif num == 3: \n",
        "  print(\"Three\")\n",
        "else: \n",
        "  print(\"Something else\")"
      ],
      "metadata": {
        "id": "WOD6yWGjEhJc"
      },
      "execution_count": null,
      "outputs": []
    },
    {
      "cell_type": "markdown",
      "source": [
        "###**Practice 7: You need to write a program to check whether a year is a leap year or not**"
      ],
      "metadata": {
        "id": "sG4AtCdOE97J"
      }
    },
    {
      "cell_type": "code",
      "source": [
        "print(\"Please enter a year: \")\n",
        "yearEntered = int(input())\n",
        "\n",
        "if((yearEntered % 400 ==0) or (yearEntered % 100 != 0) and (yearEntered % 4 ==0 )):\n",
        "    yearEntered = str(yearEntered)\n",
        "    print( \"Great, \" + yearEntered + \" is a leap year\")\n",
        "else:\n",
        "    yearEntered = str(yearEntered)\n",
        "    print( yearEntered + \" is not a leap year\")"
      ],
      "metadata": {
        "id": "TBtLO3_3FG-A",
        "colab": {
          "base_uri": "https://localhost:8080/"
        },
        "outputId": "b558d6ce-257a-46d5-efa8-3ac8070affc7"
      },
      "execution_count": null,
      "outputs": [
        {
          "output_type": "stream",
          "name": "stdout",
          "text": [
            "Please enter a year: \n",
            "1997\n",
            "1997 is not a leap year\n"
          ]
        }
      ]
    },
    {
      "cell_type": "code",
      "source": [
        "# Boolean Logic\n",
        "\n",
        "if (1 == 1) and (2 + 2 > 3):\n",
        "  print(\"true\")\n",
        "else:\n",
        "  print(\"false\")"
      ],
      "metadata": {
        "id": "7DdmiQkjLvHg",
        "colab": {
          "base_uri": "https://localhost:8080/"
        },
        "outputId": "c357bfc7-5ac3-4fc8-cfa7-a097bd558956"
      },
      "execution_count": null,
      "outputs": [
        {
          "output_type": "stream",
          "name": "stdout",
          "text": [
            "true\n"
          ]
        }
      ]
    },
    {
      "cell_type": "code",
      "source": [
        "# Boolean Or\n",
        "\n",
        "age = 15\n",
        "money = 500 \n",
        "if age > 18 or money > 100:\n",
        "  print(\"Welcome\")\n"
      ],
      "metadata": {
        "id": "ABhYURpn4OR5"
      },
      "execution_count": null,
      "outputs": []
    },
    {
      "cell_type": "code",
      "source": [
        "# Boolean Not\n",
        "if not True:\n",
        "   print(\"1\")\n",
        "elif not (1 + 1 == 3):\n",
        "   print(\"2\")\n",
        "else:\n",
        "   print(\"3\")"
      ],
      "metadata": {
        "id": "pjKXT1ax4QwE"
      },
      "execution_count": null,
      "outputs": []
    },
    {
      "cell_type": "markdown",
      "source": [
        "###**While Loops**"
      ],
      "metadata": {
        "id": "XP2phgrLNJig"
      }
    },
    {
      "cell_type": "code",
      "source": [
        "i = 1\n",
        "while i <=5:\n",
        "   print(i)\n",
        "   i = i + 1\n",
        "\n",
        "print(\"Finished!\")"
      ],
      "metadata": {
        "id": "sXxMwdpCNMy0",
        "colab": {
          "base_uri": "https://localhost:8080/"
        },
        "outputId": "e04baa27-4061-4332-b5d1-2c96a2ada73c"
      },
      "execution_count": null,
      "outputs": [
        {
          "output_type": "stream",
          "name": "stdout",
          "text": [
            "1\n",
            "2\n",
            "3\n",
            "4\n",
            "5\n",
            "Finished!\n"
          ]
        }
      ]
    },
    {
      "cell_type": "code",
      "source": [
        "x = 1\n",
        "while x < 10:\n",
        "  if x % 2 == 0:\n",
        "    print(str(x) + \" is even\")\n",
        "  else:\n",
        "    print(str(x) + \" is odd\")\n",
        "\n",
        "  x += 1"
      ],
      "metadata": {
        "id": "jiRoYIje4lOe"
      },
      "execution_count": null,
      "outputs": []
    },
    {
      "cell_type": "markdown",
      "source": [
        "###**Break**"
      ],
      "metadata": {
        "id": "VZyaaY1eOgMi"
      }
    },
    {
      "cell_type": "code",
      "source": [
        "i = 0\n",
        "while True:\n",
        "  print(i)\n",
        "  i = i + 1\n",
        "  if i >= 5:\n",
        "    print(\"Breaking\")\n",
        "    break\n",
        "\n",
        "print(\"Finished\")"
      ],
      "metadata": {
        "id": "Hlowd10uOntK"
      },
      "execution_count": null,
      "outputs": []
    },
    {
      "cell_type": "markdown",
      "source": [
        "###**Practice 8: Do the Math**\n",
        "\n",
        "Make a calculator that should add multiple numbers taken from input and output the result"
      ],
      "metadata": {
        "id": "zxZc0Fg4Ov4x"
      }
    },
    {
      "cell_type": "code",
      "source": [
        "number = \"\"\n",
        "total = 0\n",
        "\n",
        "while (number != \"stop\"):\n",
        "  number = (input(\"Please enter a number to add to accumulator or 'stop' to display the final sum: \"))\n",
        "  if(number == \"stop\"):\n",
        "    break\n",
        "  else:\n",
        "    total += int(number)\n",
        "\n",
        "print(\"The sum is: \" + str(total))"
      ],
      "metadata": {
        "colab": {
          "base_uri": "https://localhost:8080/"
        },
        "id": "YlJvSDsQPN0i",
        "outputId": "6cce0fb5-fb99-4c47-c448-a2adbba439d2"
      },
      "execution_count": null,
      "outputs": [
        {
          "output_type": "stream",
          "name": "stdout",
          "text": [
            "Please enter a number to add to accumulator or 'stop' to display the final sum: stop\n",
            "The sum is: 0\n"
          ]
        }
      ]
    },
    {
      "cell_type": "markdown",
      "source": [
        "###**Continue**"
      ],
      "metadata": {
        "id": "EHiz2v0sQc_c"
      }
    },
    {
      "cell_type": "code",
      "source": [
        "i = 0\n",
        "while i < 5:\n",
        "  i += 1\n",
        "  if i==3:\n",
        "    print(\"Skipping 3\")\n",
        "    continue\n",
        "  print(i)"
      ],
      "metadata": {
        "id": "SvHu8Kn0Qg72",
        "colab": {
          "base_uri": "https://localhost:8080/"
        },
        "outputId": "a9290a22-611f-4f7b-a12c-43c77031b78b"
      },
      "execution_count": null,
      "outputs": [
        {
          "output_type": "stream",
          "name": "stdout",
          "text": [
            "1\n",
            "2\n",
            "Skipping 3\n",
            "4\n",
            "5\n"
          ]
        }
      ]
    },
    {
      "cell_type": "markdown",
      "source": [
        "###**Practice 9: BMI Calculator**\n",
        "\n",
        ">This is the formula : weight / height²\n",
        "\n",
        "The resulting number indicates one of the following categories:\n",
        "\n",
        "* Underweight = less than 18.5  \n",
        "* Normal = more or equal to 18.5 and less than 25  \n",
        "* Overweight = more or equal to 25 and less than 30  \n",
        "* Obesity = 30 or more\n",
        "\n",
        "Let’s make finding out your BMI quicker and easier, by creating a program that takes a person's weight and height as input and outputs the corresponding BMI category."
      ],
      "metadata": {
        "id": "sXo0CnSaSgsc"
      }
    },
    {
      "cell_type": "code",
      "source": [
        "# your code goes here\n",
        "\n",
        "weight = float(input(\"Please enter your weight (kg): \"))\n",
        "height = float(input(\"Please enter your height (m): \"))\n",
        "\n",
        "BMI = weight / (height**2)\n",
        "BMI = round(BMI, 2)\n",
        "print(\"Your BMI is: \" + str(BMI) + \" and your status is: \")\n",
        "\n",
        "if(BMI < 18.5):\n",
        "    print(\"Underweight\")\n",
        "elif(BMI >= 18.5 and BMI < 25):\n",
        "    print(\"Normal\")\n",
        "elif(BMI >= 25 and BMI < 30):\n",
        "    print(\"Overweight\")\n",
        "elif(BMI >= 30):\n",
        "    print(\"Obesity\")\n",
        "else:\n",
        "    print(\"Out of range\")"
      ],
      "metadata": {
        "id": "OHn4m08NSx7Y"
      },
      "execution_count": null,
      "outputs": []
    },
    {
      "cell_type": "markdown",
      "source": [
        "###**Lists**"
      ],
      "metadata": {
        "id": "IAMl5bvnViCE"
      }
    },
    {
      "cell_type": "code",
      "source": [
        "words = [\"Hello\", \"world\", \"!\"]\n",
        "print(words[0][0])\n",
        "print(words[1])\n",
        "print(words[2]) \n",
        "\n",
        "m = [\n",
        "    [1, 2, 3],\n",
        "    [4, 5, 6]\n",
        "    ]\n",
        "    \n",
        "print(m[1][2])  "
      ],
      "metadata": {
        "id": "QaGVN8dUVmMt",
        "colab": {
          "base_uri": "https://localhost:8080/"
        },
        "outputId": "4aac5add-4102-44d7-ae34-82dca82833c4"
      },
      "execution_count": null,
      "outputs": [
        {
          "output_type": "stream",
          "name": "stdout",
          "text": [
            "H\n",
            "world\n",
            "!\n",
            "6\n"
          ]
        }
      ]
    },
    {
      "cell_type": "code",
      "source": [
        "# string indexing\n",
        "\n",
        "x = \"Python\"\n",
        "print(x[1] + x[4])"
      ],
      "metadata": {
        "id": "rXSnhAkRWcQC",
        "colab": {
          "base_uri": "https://localhost:8080/"
        },
        "outputId": "a6dd10ed-79ac-4e46-a536-147d2de70866"
      },
      "execution_count": null,
      "outputs": [
        {
          "output_type": "stream",
          "name": "stdout",
          "text": [
            "yo\n"
          ]
        }
      ]
    },
    {
      "cell_type": "code",
      "source": [
        "# List Operations\n",
        "nums = [1, 2, 3]\n",
        "print(nums + [4, 5, 6])\n",
        "print(nums * 3)\n",
        "\n",
        "x = [2,4]\n",
        "x += [6,8]\n",
        "print(x[2] // x[0])"
      ],
      "metadata": {
        "id": "LempL-_bW63s"
      },
      "execution_count": null,
      "outputs": []
    },
    {
      "cell_type": "code",
      "source": [
        "# Check if an item is in a list with the 'in' operator\n",
        "\n",
        "nums = [10, 9, 8, 7, 6, 5]\n",
        "\n",
        "num_to_check = 7\n",
        "\n",
        "if num_to_check in nums:\n",
        "  print(num_to_check, \"is found in list\") # the comma signcan be used for concatenation instead of the + sign and an extra space\n",
        "else:\n",
        "  print(num_to_check, \"cannot be found in list\")\n"
      ],
      "metadata": {
        "id": "wJNIgl_K_TlZ"
      },
      "execution_count": null,
      "outputs": []
    },
    {
      "cell_type": "code",
      "source": [
        "# Check if an item is not in a list with the not in operator\n",
        "letters = ['a', 'b', 'z']\n",
        "\n",
        "if 'c' not in letters:\n",
        "  print(\"Yes\")"
      ],
      "metadata": {
        "id": "VzwIpYg2_Wb3"
      },
      "execution_count": null,
      "outputs": []
    },
    {
      "cell_type": "markdown",
      "source": [
        "###**For Loops**"
      ],
      "metadata": {
        "id": "MPOHPcKbYIdJ"
      }
    },
    {
      "cell_type": "code",
      "source": [
        "letters = ['a', 'b', 'z']\n",
        "\n",
        "for l in letters:\n",
        "  print(l)"
      ],
      "metadata": {
        "id": "7C8cZZ-6YNIS"
      },
      "execution_count": null,
      "outputs": []
    },
    {
      "cell_type": "code",
      "source": [
        "# Count the number of times a letter appears in a string\n",
        "str = \"testing for loops\"\n",
        "count = 0\n",
        "\n",
        "for x in str:\n",
        "  if(x == 't'):\n",
        "    count += 1\n",
        "\n",
        "print(count) "
      ],
      "metadata": {
        "id": "WLCwT3fwCRq3"
      },
      "execution_count": null,
      "outputs": []
    },
    {
      "cell_type": "markdown",
      "source": [
        "###**Range**"
      ],
      "metadata": {
        "id": "zmyVvyt2ZtGj"
      }
    },
    {
      "cell_type": "code",
      "source": [
        "nums = list(range(5))\n",
        "print(nums)"
      ],
      "metadata": {
        "id": "AHgUSjC3Zsfr"
      },
      "execution_count": null,
      "outputs": []
    },
    {
      "cell_type": "code",
      "source": [
        "numbers = list(range(3, 8))\n",
        "print(numbers)"
      ],
      "metadata": {
        "id": "Ho5QxZqYCiQK"
      },
      "execution_count": null,
      "outputs": []
    },
    {
      "cell_type": "code",
      "source": [
        "print(range(20) == range(0,20))"
      ],
      "metadata": {
        "id": "0Xj6iYpuCl4m"
      },
      "execution_count": null,
      "outputs": []
    },
    {
      "cell_type": "code",
      "source": [
        "# Step in range\n",
        "nums = list(range(0, 15, 2))\n",
        "print(nums)"
      ],
      "metadata": {
        "id": "XWOern9ICl7M"
      },
      "execution_count": null,
      "outputs": []
    },
    {
      "cell_type": "code",
      "source": [
        "# forloops with ranges\n",
        "for i in range(5):\n",
        "  print(\"hello!\")"
      ],
      "metadata": {
        "id": "S8Duht4qCl-o"
      },
      "execution_count": null,
      "outputs": []
    },
    {
      "cell_type": "markdown",
      "source": [
        "###**List Slices. Yum :-|)**"
      ],
      "metadata": {
        "id": "fQspVgTCb1-n"
      }
    },
    {
      "cell_type": "code",
      "source": [
        "squares = [0, 1, 4, 9, 16, 25, 36, 49, 64, 81]\n",
        "print(squares[2:6])\n",
        "print(squares[3:8])\n",
        "print(squares[0:1])"
      ],
      "metadata": {
        "id": "WMRnxuvKcCZ0"
      },
      "execution_count": null,
      "outputs": []
    },
    {
      "cell_type": "code",
      "source": [
        "# Just like the arguments to range, the first index provided in a slice is included in the result, but the second isn't.\n",
        "\n",
        "# a missing number\n",
        "squares = [0, 1, 4, 9, 16, 25, 36, 49, 64, 81]\n",
        "print(squares[:7])\n",
        "print(squares[7:])\n",
        "#If the first number in a slice is omitted, it’s taken to be the start of the list.\n",
        "#If the second number is omitted, it’s taken to be the end."
      ],
      "metadata": {
        "id": "2Lf65cX1DVbW"
      },
      "execution_count": null,
      "outputs": []
    },
    {
      "cell_type": "code",
      "source": [
        "# a third number\n",
        "squares = [0, 1, 4, 9, 16, 25, 36, 49, 64, 81]\n",
        "print(squares[::2])\n",
        "print(squares[2:8:3])\n",
        "\n",
        "sqs = [0, 1, 4, 9, 16, 25, 36, 49, 64, 81]\n",
        "print(sqs[1::4])"
      ],
      "metadata": {
        "id": "bgAYiimpDZgg"
      },
      "execution_count": null,
      "outputs": []
    },
    {
      "cell_type": "code",
      "source": [
        "# negative numbers\n",
        "squares = [0, 1, 4, 9, 16, 25, 36, 49, 64, 81]\n",
        "print(squares[1:-1])\n",
        "print(squares[::-1])"
      ],
      "metadata": {
        "colab": {
          "base_uri": "https://localhost:8080/"
        },
        "id": "eTh1MiL8DZuI",
        "outputId": "f0a97688-fd76-4eae-ed19-1aab48d2ccad"
      },
      "execution_count": null,
      "outputs": [
        {
          "output_type": "stream",
          "name": "stdout",
          "text": [
            "[1, 4, 9, 16, 25, 36, 49, 64]\n",
            "[81, 64, 49, 36, 25, 16, 9, 4, 1, 0]\n"
          ]
        }
      ]
    },
    {
      "cell_type": "markdown",
      "source": [
        "###**Functions**"
      ],
      "metadata": {
        "id": "WKB3K2SBH1Nx"
      }
    },
    {
      "cell_type": "code",
      "source": [
        "#getting the length of the list with len\n",
        "nums = [1, 3, 5, 2, 4]\n",
        "print(len(nums))\n",
        "\n",
        "#appending to a list\n",
        "nums = [1, 2, 3]\n",
        "nums.append(4)\n",
        "print(nums)\n",
        "\n",
        "#inserting into a list\n",
        "words = [\"Python\", \"fun\"]\n",
        "index = 1\n",
        "words.insert(index, \"is\")\n",
        "print(words) \n",
        "\n",
        "#index\n",
        "letters = ['p', 'q', 'r', 's', 'p', 'u']\n",
        "print(letters.index('r'))\n",
        "print(letters.index('p'))\n",
        "print(letters.index('q')) \n",
        "\n",
        "#other useful functions\n",
        "\n",
        "numberList = [1,20,3,10,40,2,55,8,30,1,4,10]\n",
        "print(max(numberList))   #Returns the maximum value.\n",
        "print(min(numberList))  #Returns the minimum value\n",
        "\n",
        "print(numberList.count(1)) #Returns a count of how many times an item occurs in a list.\n",
        "print(numberList.remove(1)) #Removes an item from a list.\n",
        "print(numberList.reverse()) #Reverses items in a list."
      ],
      "metadata": {
        "id": "2lfgcOWdH4Tr"
      },
      "execution_count": null,
      "outputs": []
    },
    {
      "cell_type": "markdown",
      "source": [
        "###**Dictionaries**"
      ],
      "metadata": {
        "id": "ehWMsi_Ml1_X"
      }
    },
    {
      "cell_type": "code",
      "source": [
        "thisdict = {\n",
        "  \"brand\": \"Ford\",\n",
        "  \"model\": \"Mustang\",\n",
        "  \"year\": 1964,\n",
        "  \"key\" : \"value\"\n",
        "}\n",
        "print(thisdict)\n",
        "print(thisdict[\"brand\"])\n",
        "print(thisdict[\"key\"])"
      ],
      "metadata": {
        "colab": {
          "base_uri": "https://localhost:8080/"
        },
        "id": "7-nxe5jXmJG_",
        "outputId": "cc93eb5f-3b84-481c-8b1e-e38ef5397000"
      },
      "execution_count": null,
      "outputs": [
        {
          "output_type": "stream",
          "name": "stdout",
          "text": [
            "{'brand': 'Ford', 'model': 'Mustang', 'year': 1964, 'key': 'value'}\n",
            "Ford\n",
            "value\n"
          ]
        }
      ]
    },
    {
      "cell_type": "markdown",
      "source": [
        "Python provides another composite data type called a dictionary, which is similar to a list in that it is a collection of objects.\n",
        "\n",
        "\n",
        "Dictionaries and lists share the following characteristics:\n",
        "\n",
        "> Both are mutable.\n",
        "Both are dynamic. They can grow and shrink as needed.\n",
        "Both can be nested. A list can contain another list. A dictionary can contain another dictionary. A dictionary can also contain a list, and vice versa.\n",
        "Dictionaries differ from lists primarily in how elements are accessed:\n",
        "\n",
        "List elements are accessed by their position in the list, via indexing.\n",
        ">Dictionary elements are accessed via keys.\n"
      ],
      "metadata": {
        "id": "0UHsg_Ihmoi0"
      }
    },
    {
      "cell_type": "code",
      "source": [
        ""
      ],
      "metadata": {
        "id": "VCQzjzu7mUSb"
      },
      "execution_count": null,
      "outputs": []
    }
  ]
}