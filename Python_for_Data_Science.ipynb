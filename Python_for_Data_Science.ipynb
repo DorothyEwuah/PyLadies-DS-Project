{
  "nbformat": 4,
  "nbformat_minor": 0,
  "metadata": {
    "colab": {
      "name": "Python for Data Science.ipynb",
      "provenance": []
    },
    "kernelspec": {
      "name": "python3",
      "display_name": "Python 3"
    },
    "language_info": {
      "name": "python"
    }
  },
  "cells": [
    {
      "cell_type": "markdown",
      "source": [
        "Number of Vaccinations\n",
        "\n",
        "We have a report on the number of flu vaccinations in a class of 20 people.\n",
        "\n",
        "It has the following numbers:\n",
        "never: 5\n",
        "once: 8\n",
        "twice: 4\n",
        "3 times: 3\n",
        "\n",
        "What is the mean number of times those people have been vaccinated?\n",
        "Output the result using the print() statement.\n",
        "\n",
        ">Hint: Think about the data this way: it contains 20 values, each representing the number of vaccinations the corresponding person had."
      ],
      "metadata": {
        "id": "ErBDErt-zsdZ"
      }
    },
    {
      "cell_type": "code",
      "execution_count": null,
      "metadata": {
        "id": "7ofgBWWyzfGh"
      },
      "outputs": [],
      "source": [
        "vac_nums = [0,0,0,0,0,\n",
        "            1,1,1,1,1,1,1,1,\n",
        "            2,2,2,2,\n",
        "            3,3,3\n",
        "            ]\n",
        "#your code goes here\n",
        "\n",
        "mean = ((1*8) + (2*4) + (3*3) )/20\n",
        "\n",
        "print(mean)"
      ]
    },
    {
      "cell_type": "markdown",
      "source": [
        ">A low standard deviation indicates that the values tend to be close to the mean of the set, while a high standard deviation indicates that the values are spread out over a wider range."
      ],
      "metadata": {
        "id": "yzhWBR3P7Eno"
      }
    },
    {
      "cell_type": "markdown",
      "source": [
        "What would be the standard deviation for a dataset containing the same value? (for example: [2, 2, 2, 2])\n",
        ">0\n",
        "\n"
      ],
      "metadata": {
        "id": "XNdXJsac7muI"
      }
    }
  ]
}